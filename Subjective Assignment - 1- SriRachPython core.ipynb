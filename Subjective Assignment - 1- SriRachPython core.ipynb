{
 "cells": [
  {
   "cell_type": "markdown",
   "metadata": {},
   "source": [
    "Q1. Write a Python program to get the string from the given string where\n",
    "all the occurrence of its first char has been changed to '$,' except first\n",
    "char itself?\n",
    "\n",
    "    Sample String: 'prospect'\n",
    "    Expected Result : 'pros$ect'\n"
   ]
  },
  {
   "cell_type": "code",
   "execution_count": null,
   "metadata": {},
   "outputs": [],
   "source": [
    "import pandas as pd\n",
    "import numpy as np"
   ]
  },
  {
   "cell_type": "code",
   "execution_count": 39,
   "metadata": {},
   "outputs": [
    {
     "name": "stdout",
     "output_type": "stream",
     "text": [
      "Enter your string:prospectppppp\n"
     ]
    },
    {
     "data": {
      "text/plain": [
       "'pros*ect*****'"
      ]
     },
     "execution_count": 39,
     "metadata": {},
     "output_type": "execute_result"
    }
   ],
   "source": [
    "string_input=input(\"Enter your string:\")\n",
    "\"\".join((string_input[0], string_input[1:].replace(string_input[0], \"*\")))\n"
   ]
  },
  {
   "cell_type": "markdown",
   "metadata": {},
   "source": [
    "Q2. Write a Python program to get the single string from the two given\n",
    "strings, and separated by the space and swap the first two characters of\n",
    "each string?\n",
    "\n",
    "    Sample String : 'abc', 'xyz'.\n",
    "    Expected Result: 'xyc abz'"
   ]
  },
  {
   "cell_type": "code",
   "execution_count": 4,
   "metadata": {},
   "outputs": [
    {
     "name": "stdout",
     "output_type": "stream",
     "text": [
      "enter your stringabc\n",
      "enter your stringxyz\n"
     ]
    },
    {
     "data": {
      "text/plain": [
       "'xyc abz'"
      ]
     },
     "execution_count": 4,
     "metadata": {},
     "output_type": "execute_result"
    }
   ],
   "source": [
    "temp1=input(\"enter your string\")\n",
    "temp2=input(\"enter your string\")\n",
    "\n",
    "temp1=list(temp1)\n",
    "temp2=list(temp2)\n",
    "\n",
    "temp3=temp1[0:2]\n",
    "\n",
    "temp1[0:2]=temp2[0:2]\n",
    "temp2[0:2]=temp3\n",
    "\n",
    "\"\".join(temp1)+\" \"+\"\".join(temp2)"
   ]
  },
  {
   "cell_type": "markdown",
   "metadata": {},
   "source": [
    "Q3. Write the Python program to add 'ing' at the end of the given string\n",
    "(length of the string should be at least 3). If given string already ends\n",
    "with 'ing,' then add 'ly' instead. If string length of the given string is less\n",
    "than 3, leave it unchanged?\n",
    "\n",
    "\n",
    "    Sample string: ' abc '\n",
    "    Expected result: ' abcing '\n",
    "    Sample string: ' string '\n",
    "    Expected result: ' stringly '\n"
   ]
  },
  {
   "cell_type": "code",
   "execution_count": 12,
   "metadata": {},
   "outputs": [
    {
     "name": "stdout",
     "output_type": "stream",
     "text": [
      "enter your stringab\n",
      "ab\n"
     ]
    }
   ],
   "source": [
    "newstring=input(\"enter your string\")\n",
    "\n",
    "length=len(newstring)\n",
    "\n",
    "if(length>=3):\n",
    "    if(newstring[-3:]==\"ing\"):\n",
    "        newstring=newstring+\"ly\"\n",
    "        print(newstring)\n",
    "    else:\n",
    "        newstring=newstring+\"ing\"\n",
    "        print(newstring)\n",
    "else:\n",
    "    print(newstring)\n",
    "        "
   ]
  },
  {
   "cell_type": "markdown",
   "metadata": {},
   "source": [
    "Q4. Write the Python program to find the first appearance of the\n",
    "substring 'not' and 'poor' from the given string, if 'not' follows the 'poor',\n",
    "replace the whole 'not'...' poor' substring with 'good'.Return the resulting\n",
    "string.\n",
    "\n",
    "    Sample string: 'The lyrics are not that poor!'\n",
    "    'The lyrics are poor!'\n",
    "    Expected Result: 'The lyrics are good!'\n",
    "    'The lyrics are poor!'"
   ]
  },
  {
   "cell_type": "code",
   "execution_count": 27,
   "metadata": {},
   "outputs": [
    {
     "name": "stdout",
     "output_type": "stream",
     "text": [
      "Enter your string'The lyrics are not that poor!' 'The lyrics are poor!'\n"
     ]
    },
    {
     "data": {
      "text/plain": [
       "'The lyrics are good! The lyrics are poor!'"
      ]
     },
     "execution_count": 27,
     "metadata": {},
     "output_type": "execute_result"
    }
   ],
   "source": [
    "import re\n",
    "\n",
    "poor_string=input(\"Enter your string\")\n",
    "\n",
    "temp=poor_string.split(\"'\")\n",
    "\n",
    "list1=[]\n",
    "\n",
    "for i in temp:\n",
    "    list1.append(re.sub(\"not .*poor\",\"good\",i))\n",
    "\n",
    "\"\".join(list1)"
   ]
  },
  {
   "cell_type": "markdown",
   "metadata": {},
   "source": [
    "Q5. Write the Python program to remove the characters which have odd\n",
    "index values of a given string."
   ]
  },
  {
   "cell_type": "code",
   "execution_count": 40,
   "metadata": {},
   "outputs": [
    {
     "name": "stdout",
     "output_type": "stream",
     "text": [
      "enter your string:hellos\n"
     ]
    },
    {
     "data": {
      "text/plain": [
       "'hlo'"
      ]
     },
     "execution_count": 40,
     "metadata": {},
     "output_type": "execute_result"
    }
   ],
   "source": [
    "newstr=input(\"enter your string:\")\n",
    "\n",
    "result=\"\"\n",
    "\n",
    "for i in range(len(newstr)):\n",
    "               if i%2==0:\n",
    "                   result=result+newstr[i]\n",
    "\n",
    "result"
   ]
  },
  {
   "cell_type": "markdown",
   "metadata": {},
   "source": [
    "Q6. Write the python program to print the following floating numbers up\n",
    "to 2 decimal places?"
   ]
  },
  {
   "cell_type": "code",
   "execution_count": 48,
   "metadata": {},
   "outputs": [
    {
     "name": "stdout",
     "output_type": "stream",
     "text": [
      "enter your floating number1.3424232\n",
      "1.34\n"
     ]
    }
   ],
   "source": [
    "import numpy as np\n",
    "x=input(\"enter your floating number\")\n",
    "print(round(float(x),2))"
   ]
  },
  {
   "cell_type": "markdown",
   "metadata": {},
   "source": [
    "Q7. Write the Python program to format a number with a percentage?"
   ]
  },
  {
   "cell_type": "code",
   "execution_count": 53,
   "metadata": {},
   "outputs": [
    {
     "name": "stdout",
     "output_type": "stream",
     "text": [
      "enter number0.24\n",
      "24.00%\n"
     ]
    }
   ],
   "source": [
    "perc=input(\"enter number\")\n",
    "newperc=float(perc)\n",
    "print(\"{:.2%}\".format(newperc))"
   ]
  },
  {
   "cell_type": "markdown",
   "metadata": {},
   "source": [
    "Q8. Write the Python program to count occurrences of a substring in a\n",
    "String?"
   ]
  },
  {
   "cell_type": "code",
   "execution_count": 4,
   "metadata": {},
   "outputs": [
    {
     "name": "stdout",
     "output_type": "stream",
     "text": [
      "enter your main string:hi hello hi hi hi how are you doing\n",
      "enter your substring:hi\n",
      "number of time substring repeated is :4\n"
     ]
    }
   ],
   "source": [
    "mainstr=input(\"enter your main string:\")\n",
    "substringinp=input(\"enter your substring:\")\n",
    "\n",
    "print(\"number of time substring repeated is :{}\".format(mainstr.count(substringinp)))"
   ]
  },
  {
   "cell_type": "markdown",
   "metadata": {},
   "source": [
    "Q9. Write the Python program to count repeated characters in a string.\n",
    "\n",
    "    Sample string: ' thequickbrownjumpsoverthelazydog '\n",
    "    \n",
    "    Expected output:\n",
    "    o 3\n",
    "    e 3\n",
    "    u 2\n",
    "    h 2\n",
    "    r 2\n",
    "    t 2"
   ]
  },
  {
   "cell_type": "code",
   "execution_count": 16,
   "metadata": {},
   "outputs": [
    {
     "name": "stdout",
     "output_type": "stream",
     "text": [
      "enter your sample string:thequickbrownjumpsoverthelazydog\n",
      "{'t': 2, 'h': 2, 'e': 3, 'q': 1, 'u': 2, 'i': 1, 'c': 1, 'k': 1, 'b': 1, 'r': 2, 'o': 3, 'w': 1, 'n': 1, 'j': 1, 'm': 1, 'p': 1, 's': 1, 'v': 1, 'l': 1, 'a': 1, 'z': 1, 'y': 1, 'd': 1, 'g': 1}\n"
     ]
    }
   ],
   "source": [
    "sampstr=input(\"enter your sample string:\")\n",
    "\n",
    "list1=list(sampstr)\n",
    "\n",
    "finaldict = dict((i, list1.count(i)) for i in list1)\n",
    "\n",
    "print(finaldict)"
   ]
  },
  {
   "cell_type": "markdown",
   "metadata": {},
   "source": [
    "Q10. Write the Python program to print the square and cube symbol in\n",
    "the area of a rectangle and volume of a cylinder?\n",
    "\n",
    "    Sample outputThe area of the rectangle is 1256.66cm2\n",
    "    The volume of the cylinder is 1254.725cm3\n"
   ]
  },
  {
   "cell_type": "code",
   "execution_count": 10,
   "metadata": {},
   "outputs": [
    {
     "name": "stdout",
     "output_type": "stream",
     "text": [
      "enter your rectangle statement:Sample outputThe area of the rectangle is 1256.66cm2\n",
      "enter your cylinder statement:The volume of the cylinder is 1254.725cm3\n",
      "2\n",
      "3\n"
     ]
    }
   ],
   "source": [
    "rectangle=input(\"enter your rectangle statement:\")\n",
    "\n",
    "cylinder=input(\"enter your cylinder statement:\")\n",
    "\n",
    "rectanglelist=list(rectangle)\n",
    "cylinderlist=list(cylinder)\n",
    "\n",
    "print(rectanglelist[-1])\n",
    "print(cylinderlist[-1])"
   ]
  },
  {
   "cell_type": "markdown",
   "metadata": {},
   "source": [
    "Q11. Write the Python program to check if a string contains all letters of\n",
    "the alphabet?"
   ]
  },
  {
   "cell_type": "code",
   "execution_count": 12,
   "metadata": {},
   "outputs": [
    {
     "name": "stdout",
     "output_type": "stream",
     "text": [
      "enter sample string:abcdefghijklmnopqrstuvwxyz\n",
      "True\n"
     ]
    }
   ],
   "source": [
    "import string\n",
    "highalphabets = set(string.ascii_uppercase)\n",
    "newstring =input(\"enter sample string:\")\n",
    "print(set(newstring.upper()) >= highalphabets)"
   ]
  },
  {
   "cell_type": "markdown",
   "metadata": {},
   "source": [
    "Q12. Write the Python program to find the second most repeated word\n",
    "in a given string?"
   ]
  },
  {
   "cell_type": "code",
   "execution_count": 27,
   "metadata": {},
   "outputs": [
    {
     "name": "stdout",
     "output_type": "stream",
     "text": [
      "enter your sample string:zzzbbbbbbbbbbbbbbbaaaaaafsfeeeefss\n",
      "[('z', 3), ('f', 3), ('s', 3), ('e', 4), ('a', 6), ('b', 15)]\n"
     ]
    },
    {
     "data": {
      "text/plain": [
       "('a', 6)"
      ]
     },
     "execution_count": 27,
     "metadata": {},
     "output_type": "execute_result"
    }
   ],
   "source": [
    "sampstr=input(\"enter your sample string:\")\n",
    "\n",
    "#converting string to list\n",
    "list1=list(sampstr)\n",
    "\n",
    "#Creating dictionary\n",
    "finaldict = dict((i, list1.count(i)) for i in list1)\n",
    "\n",
    "#Sorting dictionary based on value\n",
    "finaldict_order= sorted(finaldict.items(), key=lambda x: x[1])\n",
    "\n",
    "#printing sorted dictionary\n",
    "print(finaldict_order)\n",
    "\n",
    "#printing second highest repeated element\n",
    "list(finaldict_order)[-2]\n"
   ]
  },
  {
   "cell_type": "markdown",
   "metadata": {},
   "source": [
    "Q13. Write the Python program to find the minimum window in the given\n",
    "string, which will contains all the characters of another given\n",
    "strings?\n",
    "\n",
    "    Example 1\n",
    "    Input : string1 = \" PRWSOERIUSFK \"\n",
    "    string2 = \" OSU \"\n",
    "    Output: Minimum window is \"OERIUS\""
   ]
  },
  {
   "cell_type": "code",
   "execution_count": 34,
   "metadata": {},
   "outputs": [
    {
     "name": "stdout",
     "output_type": "stream",
     "text": [
      "['P', 'R', 'W', 'S', 'O', 'E', 'R', 'I', 'U', 'S', 'F', 'K']\n",
      "['O', 'S', 'U']\n",
      "[3, 4, 8]\n"
     ]
    }
   ],
   "source": [
    "string11=\"PRWSOERIUSFK\"\n",
    "string22='OSU'\n",
    "\n",
    "list1=list(string11)\n",
    "list2=list(string22)\n",
    "\n",
    "print(list1)\n",
    "print(list2)\n",
    "\n",
    "newlist1=[]\n",
    "\n",
    "for j in list2:\n",
    "    if(j in list1):\n",
    "        newlist1.append(list1.index(j))\n",
    "\n",
    "newlist1.sort()\n",
    "\n",
    "list[newlist1(0l)\n",
    "        \n",
    "        \n"
   ]
  },
  {
   "cell_type": "markdown",
   "metadata": {},
   "source": [
    "Q14. Write the Python program to count number of substrings from a\n",
    "given string of lowercase alphabets with exactly k distinct (given)\n",
    "characters?\n",
    "\n",
    "    Input a string (lowercase alphabets): wolf\n",
    "    Input k: 4\n",
    "    Number of substrings with exactly 4 distinct characters: 1"
   ]
  },
  {
   "cell_type": "code",
   "execution_count": null,
   "metadata": {},
   "outputs": [],
   "source": []
  },
  {
   "cell_type": "markdown",
   "metadata": {},
   "source": [
    "Q15. Write the Python program to count number of substrings with same\n",
    "first and last characters of the given string?\n",
    "\n",
    "    Input a string: abcd\n",
    "    4\n"
   ]
  },
  {
   "cell_type": "code",
   "execution_count": null,
   "metadata": {},
   "outputs": [],
   "source": []
  },
  {
   "cell_type": "markdown",
   "metadata": {},
   "source": [
    "## Great Job!"
   ]
  }
 ],
 "metadata": {
  "kernelspec": {
   "display_name": "Python 3",
   "language": "python",
   "name": "python3"
  },
  "language_info": {
   "codemirror_mode": {
    "name": "ipython",
    "version": 3
   },
   "file_extension": ".py",
   "mimetype": "text/x-python",
   "name": "python",
   "nbconvert_exporter": "python",
   "pygments_lexer": "ipython3",
   "version": "3.6.5"
  }
 },
 "nbformat": 4,
 "nbformat_minor": 2
}
